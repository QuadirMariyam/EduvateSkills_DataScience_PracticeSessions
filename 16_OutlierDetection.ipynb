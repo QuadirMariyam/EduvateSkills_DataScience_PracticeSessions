{
 "cells": [
  {
   "cell_type": "markdown",
   "id": "824feb24-1d9b-438b-a92e-8f9095e162a3",
   "metadata": {},
   "source": [
    "## Standard deviation"
   ]
  },
  {
   "cell_type": "code",
   "execution_count": 4,
   "id": "7d158aaa-0e16-4cca-aa9e-a4734f20649e",
   "metadata": {},
   "outputs": [],
   "source": [
    "import numpy as np"
   ]
  },
  {
   "cell_type": "code",
   "execution_count": 14,
   "id": "33b1fc36-7303-4d07-9962-2df46cb6d276",
   "metadata": {},
   "outputs": [
    {
     "data": {
      "text/plain": [
       "3.25"
      ]
     },
     "execution_count": 14,
     "metadata": {},
     "output_type": "execute_result"
    }
   ],
   "source": [
    "data = [5, 1, 3]\n",
    "\n",
    "np.mean(data) #x bar"
   ]
  },
  {
   "cell_type": "code",
   "execution_count": 16,
   "id": "6fd10a8d-736c-4319-a07a-bab0056353dc",
   "metadata": {},
   "outputs": [],
   "source": [
    "# 5 - 3 = 2\n",
    "# 1 - 3 = -2\n",
    "# 3 - 3 = 0\n",
    "# addition = 0 ^ 2/2"
   ]
  },
  {
   "cell_type": "markdown",
   "id": "f2dfdd13-40df-4a9e-8b95-fab34fb71dbe",
   "metadata": {},
   "source": [
    "# Empirical Rule\n",
    "68% of the data lies between -1 to 1 <br>\n",
    "95% of the data lies between -2 to 2 <br>\n",
    "99.7% of the data lies between -3 to 3 <br>\n",
    "\n",
    "ex, doctors survey weight and height graph is as per empirical rule"
   ]
  },
  {
   "cell_type": "code",
   "execution_count": null,
   "id": "c9632259-b806-4e6a-a930-808c6b98ff24",
   "metadata": {},
   "outputs": [],
   "source": [
    "# Percentile\n",
    "\n",
    "[2, 2, 3, 4, 5, 5, 5, 6, 7, 8, 8, 8, 8, 8, 9, 9, 10, 11, 11, 12]\n",
    "percentage = 3/9*100 = 33%\n",
    "percentile of x 10 = no. of values below x / total no. of values * 100 = 19/20 * 100 = 80 percentile\n",
    "\n",
    "index = percentile / 100 * (total no. of values + 1)"
   ]
  },
  {
   "cell_type": "markdown",
   "id": "faa938fd-b9c8-48c7-9112-7c3c7fe48fba",
   "metadata": {},
   "source": [
    "# Outlier Detection - IQR, z-score\n",
    "\n",
    "## IQR - 5 number summary"
   ]
  },
  {
   "cell_type": "markdown",
   "id": "35bd1f0a-a816-4567-aa5f-3f0f28d4a4f7",
   "metadata": {},
   "source": [
    "# 25 percentile, 50 percentile, 75 percentile\n",
    "q1 = 25 percentile = 5 <br>\n",
    "q2 = 50 percentile = 8 <br>\n",
    "q3 = 75 percentile = 9 <br>\n",
    "\n",
    "Inter Quartile Range = q3 - q1 = 4"
   ]
  },
  {
   "cell_type": "markdown",
   "id": "ac90fd20-6135-43b2-81c1-ff2a21455a33",
   "metadata": {},
   "source": [
    "lower fence = q1 - (1.5 * iqr) <br>\n",
    "higher fence = q3 + (1.5 * iqr)\n",
    "\n",
    "outliers are the data values outside of lower and higher fences"
   ]
  },
  {
   "cell_type": "markdown",
   "id": "26ba3836-d4f7-42e3-907f-e219f95db08a",
   "metadata": {},
   "source": [
    "# z-score"
   ]
  },
  {
   "cell_type": "markdown",
   "id": "b6d0386b-5aa7-46d7-89b9-1f8e17c20c42",
   "metadata": {},
   "source": [
    "data values lying outside 3rd deviation in STD DEV formula are outliers"
   ]
  },
  {
   "cell_type": "code",
   "execution_count": 69,
   "id": "06292847-ab9b-4c9e-ab0e-c2e236b1984f",
   "metadata": {},
   "outputs": [],
   "source": [
    "outliers = []\n",
    "def detect_outliers(data):\n",
    "    threshold = 3 # 3rd std dev\n",
    "    mean = np.mean(data)\n",
    "    std = np.std(data)\n",
    "    \n",
    "    for i in data:\n",
    "        z_score = (i - mean) / std\n",
    "        if np.abs(z_score) > threshold:\n",
    "            outliers.append(i)\n",
    "    return outliers"
   ]
  },
  {
   "cell_type": "code",
   "execution_count": 71,
   "id": "93a488b9-c2cd-4fab-b625-57ad2fa0942e",
   "metadata": {},
   "outputs": [
    {
     "data": {
      "text/plain": [
       "6.454545454545454"
      ]
     },
     "execution_count": 71,
     "metadata": {},
     "output_type": "execute_result"
    }
   ],
   "source": [
    "dataset = [-99, 2, 2, 3, 4, 5, 5, 5, 6, 7, 8, 8, 8, 8, 8, 9, 9, 10, 11, 11, 12, 100]\n",
    "np.mean(dataset)"
   ]
  },
  {
   "cell_type": "code",
   "execution_count": 73,
   "id": "098d68c4-92ef-4619-adcf-3dd297f27129",
   "metadata": {},
   "outputs": [
    {
     "name": "stdout",
     "output_type": "stream",
     "text": [
      "[-99, 100]\n"
     ]
    }
   ],
   "source": [
    "print(detect_outliers(dataset))"
   ]
  },
  {
   "cell_type": "code",
   "execution_count": null,
   "id": "0a174782-7493-4ada-ada5-1e122e783f48",
   "metadata": {},
   "outputs": [],
   "source": []
  }
 ],
 "metadata": {
  "kernelspec": {
   "display_name": "Python [conda env:base] *",
   "language": "python",
   "name": "conda-base-py"
  },
  "language_info": {
   "codemirror_mode": {
    "name": "ipython",
    "version": 3
   },
   "file_extension": ".py",
   "mimetype": "text/x-python",
   "name": "python",
   "nbconvert_exporter": "python",
   "pygments_lexer": "ipython3",
   "version": "3.12.7"
  }
 },
 "nbformat": 4,
 "nbformat_minor": 5
}
