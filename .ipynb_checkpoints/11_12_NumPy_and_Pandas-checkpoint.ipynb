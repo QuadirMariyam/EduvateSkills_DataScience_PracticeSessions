{
 "cells": [
  {
   "cell_type": "code",
   "execution_count": 1,
   "id": "bf19e3f1-6642-4398-9c26-e889ae1f0771",
   "metadata": {},
   "outputs": [],
   "source": [
    "a = 10"
   ]
  },
  {
   "cell_type": "code",
   "execution_count": 2,
   "id": "7cf51874-9da8-4766-9b4e-9c6d614748b1",
   "metadata": {},
   "outputs": [
    {
     "data": {
      "text/plain": [
       "10"
      ]
     },
     "execution_count": 2,
     "metadata": {},
     "output_type": "execute_result"
    }
   ],
   "source": [
    "a"
   ]
  },
  {
   "cell_type": "code",
   "execution_count": 3,
   "id": "0704956d-3f27-44ff-9692-d9068712582a",
   "metadata": {},
   "outputs": [],
   "source": [
    "import numpy as np"
   ]
  },
  {
   "cell_type": "markdown",
   "id": "c45ec989-c2ef-434a-9df7-c745551321bf",
   "metadata": {},
   "source": [
    "# 👨‍🔬 NumPy = Numerical Python - foundation library for scientific computing\n",
    "Array in NumPy are n-dimensional (ndarray) that are:\n",
    "1. faster than python list\n",
    "2. memory effecient\n",
    "3. no loops needed to traverse (support vectorized operations)"
   ]
  },
  {
   "cell_type": "code",
   "execution_count": 5,
   "id": "c2f0c888-122c-47e6-af4a-8997add5ba9f",
   "metadata": {},
   "outputs": [
    {
     "name": "stdout",
     "output_type": "stream",
     "text": [
      "[1 2 3 4]\n"
     ]
    }
   ],
   "source": [
    "arr = np.array([1,2,3,4])\n",
    "print(arr)"
   ]
  },
  {
   "cell_type": "code",
   "execution_count": 39,
   "id": "463dca2a-f06e-4468-9a15-8146ec973d31",
   "metadata": {},
   "outputs": [
    {
     "data": {
      "text/plain": [
       "3"
      ]
     },
     "execution_count": 39,
     "metadata": {},
     "output_type": "execute_result"
    }
   ],
   "source": [
    "list1 = [[1,2,3],[4,5,6],[7,8,9]]\n",
    "list2 = [[11,12,13],[14,15,16],[17,18,19]]\n",
    "\n",
    "sum = list1[1][2] \n",
    "sum\n",
    "# using list if you want to add you have loop\n",
    "# print(listm)"
   ]
  },
  {
   "cell_type": "code",
   "execution_count": 51,
   "id": "a3a3c345-ed37-41bb-a470-4a2bbe1d9531",
   "metadata": {},
   "outputs": [
    {
     "name": "stdout",
     "output_type": "stream",
     "text": [
      "[[ 90  96 102]\n",
      " [216 231 246]\n",
      " [342 366 390]]\n",
      "[[12 14 16]\n",
      " [18 20 22]\n",
      " [24 26 28]]\n",
      "[[-10 -10 -10]\n",
      " [-10 -10 -10]\n",
      " [-10 -10 -10]]\n",
      "[[ 11  24  39]\n",
      " [ 56  75  96]\n",
      " [119 144 171]]\n",
      "[[0.09090909 0.16666667 0.23076923]\n",
      " [0.28571429 0.33333333 0.375     ]\n",
      " [0.41176471 0.44444444 0.47368421]]\n"
     ]
    }
   ],
   "source": [
    "# Operations\n",
    "\n",
    "matrix1 = np.array([[1, 2, 3],[4, 5, 6],[7, 8, 9]])\n",
    "# print(matrix)\n",
    "matrix2 = np.array([[11,12,13],[14,15,16],[17,18,19]])\n",
    "\n",
    "addmatrix = matrix1 + matrix2\n",
    "submatrix = matrix1 - matrix2\n",
    "mulmatrix = matrix1 * matrix2\n",
    "divmatrix = matrix1 / matrix2\n",
    "print(np.dot(matrix1, matrix2))\n",
    "print(addmatrix)\n",
    "print(submatrix)\n",
    "print(mulmatrix)\n",
    "print(divmatrix)"
   ]
  },
  {
   "cell_type": "code",
   "execution_count": 77,
   "id": "7c458b36-8b64-4d55-8bc7-89c7c0adce7c",
   "metadata": {},
   "outputs": [
    {
     "data": {
      "text/plain": [
       "array([ 0. ,  2.5,  5. ,  7.5, 10. ])"
      ]
     },
     "execution_count": 77,
     "metadata": {},
     "output_type": "execute_result"
    }
   ],
   "source": [
    "# interesting functions\n",
    "zeros = np.zeros((3,3))\n",
    "zeros\n",
    "ones = np.ones((2,3))\n",
    "ones\n",
    "arange = np.arange(1,10,1)\n",
    "arange\n",
    "linspa = np.linspace(0,10,5)\n",
    "linspa"
   ]
  },
  {
   "cell_type": "code",
   "execution_count": 85,
   "id": "f2850f65-4d5f-4e26-8242-c526bf9376f4",
   "metadata": {},
   "outputs": [
    {
     "data": {
      "text/plain": [
       "array([50])"
      ]
     },
     "execution_count": 85,
     "metadata": {},
     "output_type": "execute_result"
    }
   ],
   "source": [
    "# indexing and slicing\n",
    "arr = np.array([10, 20, 30, 40, 50])\n",
    "\n",
    "arr[:3]\n",
    "arr[::-1]\n",
    "arr[:-1:]\n",
    "arr[-1::]\n",
    "\n",
    "# play around with 2D indexing using numpy arrays"
   ]
  },
  {
   "cell_type": "code",
   "execution_count": 95,
   "id": "1643f30a-e646-4a36-a340-13942f7a3641",
   "metadata": {},
   "outputs": [
    {
     "data": {
      "text/plain": [
       "5"
      ]
     },
     "execution_count": 95,
     "metadata": {},
     "output_type": "execute_result"
    }
   ],
   "source": [
    "arr.shape\n",
    "# matrix1.shape\n",
    "arr.size\n",
    "\n",
    "# prompt = tell me some interesting facts or tips about arrays using numpy in python"
   ]
  },
  {
   "cell_type": "markdown",
   "id": "800f0f80-308c-4d8a-a112-762e63e3862e",
   "metadata": {},
   "source": [
    "# 📊 Data Manipulation"
   ]
  },
  {
   "cell_type": "code",
   "execution_count": 97,
   "id": "c8768132-d848-4a83-9da4-1b11abe9b4bf",
   "metadata": {},
   "outputs": [],
   "source": [
    "import pandas as pd\n",
    "# pandas supports series, dataframes, loading datasets"
   ]
  },
  {
   "cell_type": "code",
   "execution_count": 106,
   "id": "22d85526-a171-486f-a90e-34ff2c6e52f5",
   "metadata": {},
   "outputs": [
    {
     "name": "stdout",
     "output_type": "stream",
     "text": [
      "0    10\n",
      "1    20\n",
      "2    30\n",
      "3    40\n",
      "4    50\n",
      "Name: Marks, dtype: int64\n"
     ]
    }
   ],
   "source": [
    "s = pd.Series([10, 20, 30, 40, 50], name = \"Marks\")\n",
    "print(s)"
   ]
  },
  {
   "cell_type": "code",
   "execution_count": 110,
   "id": "4983555a-f7b3-4ec3-b60f-e8ad196288a6",
   "metadata": {},
   "outputs": [
    {
     "name": "stdout",
     "output_type": "stream",
     "text": [
      "<class 'pandas.core.series.Series'>\n",
      "RangeIndex: 5 entries, 0 to 4\n",
      "Series name: Marks\n",
      "Non-Null Count  Dtype\n",
      "--------------  -----\n",
      "5 non-null      int64\n",
      "dtypes: int64(1)\n",
      "memory usage: 172.0 bytes\n"
     ]
    }
   ],
   "source": [
    "s.info()"
   ]
  },
  {
   "cell_type": "code",
   "execution_count": 128,
   "id": "b403d84f-b4b7-4983-ac62-778747a971e4",
   "metadata": {},
   "outputs": [
    {
     "name": "stdout",
     "output_type": "stream",
     "text": [
      "Math       85\n",
      "Science    67\n",
      "English    79\n",
      "Name: Annual Test Marks, dtype: int64\n"
     ]
    }
   ],
   "source": [
    "s = pd.Series([85, 67, 79], index =[\"Math\", \"Science\", \"English\"], name = \"Annual Test Marks\")\n",
    "print(s)"
   ]
  },
  {
   "cell_type": "code",
   "execution_count": 130,
   "id": "accd848d-4b1c-4b87-a504-08bb63617846",
   "metadata": {},
   "outputs": [
    {
     "name": "stdout",
     "output_type": "stream",
     "text": [
      "<class 'pandas.core.series.Series'>\n",
      "Index: 3 entries, Math to English\n",
      "Series name: Annual Test Marks\n",
      "Non-Null Count  Dtype\n",
      "--------------  -----\n",
      "3 non-null      int64\n",
      "dtypes: int64(1)\n",
      "memory usage: 156.0+ bytes\n"
     ]
    }
   ],
   "source": [
    "# s[0]\n",
    "s[\"Math\"]\n",
    "s.info()"
   ]
  },
  {
   "cell_type": "code",
   "execution_count": 132,
   "id": "d2dc5069-5bf8-4c9f-b5b5-5c1c08043aae",
   "metadata": {},
   "outputs": [
    {
     "name": "stdout",
     "output_type": "stream",
     "text": [
      "{'Name': ['Alice', 'Bob', 'Peter'], 'Age': [22, 23, 20], 'Marks': [78, 79, 65]}\n"
     ]
    }
   ],
   "source": [
    "# Pandas Dataframe\n",
    "\n",
    "# dataframe is 2D labelled table (like an Excel sheet)\n",
    "\n",
    "data = {\n",
    "    \"Name\": [\"Alice\", \"Bob\", \"Peter\"], \n",
    "    \"Age\": [22, 23, 20], \n",
    "    \"Marks\": [78, 79, 65]\n",
    "}\n",
    "\n",
    "print(data)"
   ]
  },
  {
   "cell_type": "code",
   "execution_count": 136,
   "id": "07b92a12-0550-44f8-83b5-62f24cbe5fd1",
   "metadata": {},
   "outputs": [
    {
     "data": {
      "text/html": [
       "<div>\n",
       "<style scoped>\n",
       "    .dataframe tbody tr th:only-of-type {\n",
       "        vertical-align: middle;\n",
       "    }\n",
       "\n",
       "    .dataframe tbody tr th {\n",
       "        vertical-align: top;\n",
       "    }\n",
       "\n",
       "    .dataframe thead th {\n",
       "        text-align: right;\n",
       "    }\n",
       "</style>\n",
       "<table border=\"1\" class=\"dataframe\">\n",
       "  <thead>\n",
       "    <tr style=\"text-align: right;\">\n",
       "      <th></th>\n",
       "      <th>Name</th>\n",
       "      <th>Age</th>\n",
       "      <th>Marks</th>\n",
       "    </tr>\n",
       "  </thead>\n",
       "  <tbody>\n",
       "    <tr>\n",
       "      <th>0</th>\n",
       "      <td>Alice</td>\n",
       "      <td>22</td>\n",
       "      <td>78</td>\n",
       "    </tr>\n",
       "    <tr>\n",
       "      <th>1</th>\n",
       "      <td>Bob</td>\n",
       "      <td>23</td>\n",
       "      <td>79</td>\n",
       "    </tr>\n",
       "    <tr>\n",
       "      <th>2</th>\n",
       "      <td>Peter</td>\n",
       "      <td>20</td>\n",
       "      <td>65</td>\n",
       "    </tr>\n",
       "  </tbody>\n",
       "</table>\n",
       "</div>"
      ],
      "text/plain": [
       "    Name  Age  Marks\n",
       "0  Alice   22     78\n",
       "1    Bob   23     79\n",
       "2  Peter   20     65"
      ]
     },
     "execution_count": 136,
     "metadata": {},
     "output_type": "execute_result"
    }
   ],
   "source": [
    "df = pd.DataFrame(data)\n",
    "df"
   ]
  },
  {
   "cell_type": "code",
   "execution_count": 140,
   "id": "9087b952-14a6-4eb0-9bb8-b27cd1d6a7d1",
   "metadata": {},
   "outputs": [
    {
     "data": {
      "text/html": [
       "<div>\n",
       "<style scoped>\n",
       "    .dataframe tbody tr th:only-of-type {\n",
       "        vertical-align: middle;\n",
       "    }\n",
       "\n",
       "    .dataframe tbody tr th {\n",
       "        vertical-align: top;\n",
       "    }\n",
       "\n",
       "    .dataframe thead th {\n",
       "        text-align: right;\n",
       "    }\n",
       "</style>\n",
       "<table border=\"1\" class=\"dataframe\">\n",
       "  <thead>\n",
       "    <tr style=\"text-align: right;\">\n",
       "      <th></th>\n",
       "      <th>Name</th>\n",
       "      <th>Age</th>\n",
       "      <th>Marks</th>\n",
       "    </tr>\n",
       "  </thead>\n",
       "  <tbody>\n",
       "    <tr>\n",
       "      <th>0</th>\n",
       "      <td>Alice</td>\n",
       "      <td>22</td>\n",
       "      <td>78</td>\n",
       "    </tr>\n",
       "  </tbody>\n",
       "</table>\n",
       "</div>"
      ],
      "text/plain": [
       "    Name  Age  Marks\n",
       "0  Alice   22     78"
      ]
     },
     "execution_count": 140,
     "metadata": {},
     "output_type": "execute_result"
    }
   ],
   "source": [
    "df.head(1)"
   ]
  },
  {
   "cell_type": "code",
   "execution_count": 152,
   "id": "d9f4e6a9-015a-4062-aa49-6114dd80b448",
   "metadata": {},
   "outputs": [
    {
     "data": {
      "text/html": [
       "<div>\n",
       "<style scoped>\n",
       "    .dataframe tbody tr th:only-of-type {\n",
       "        vertical-align: middle;\n",
       "    }\n",
       "\n",
       "    .dataframe tbody tr th {\n",
       "        vertical-align: top;\n",
       "    }\n",
       "\n",
       "    .dataframe thead th {\n",
       "        text-align: right;\n",
       "    }\n",
       "</style>\n",
       "<table border=\"1\" class=\"dataframe\">\n",
       "  <thead>\n",
       "    <tr style=\"text-align: right;\">\n",
       "      <th></th>\n",
       "      <th>Name</th>\n",
       "      <th>Age</th>\n",
       "      <th>Marks</th>\n",
       "    </tr>\n",
       "  </thead>\n",
       "  <tbody>\n",
       "    <tr>\n",
       "      <th>2</th>\n",
       "      <td>Peter</td>\n",
       "      <td>20</td>\n",
       "      <td>65</td>\n",
       "    </tr>\n",
       "  </tbody>\n",
       "</table>\n",
       "</div>"
      ],
      "text/plain": [
       "    Name  Age  Marks\n",
       "2  Peter   20     65"
      ]
     },
     "execution_count": 152,
     "metadata": {},
     "output_type": "execute_result"
    }
   ],
   "source": [
    "df.tail(1)"
   ]
  },
  {
   "cell_type": "code",
   "execution_count": 156,
   "id": "7b67bc92-dcf2-4683-a7ba-5cab96d34bd5",
   "metadata": {},
   "outputs": [
    {
     "data": {
      "text/plain": [
       "(3, 3)"
      ]
     },
     "execution_count": 156,
     "metadata": {},
     "output_type": "execute_result"
    }
   ],
   "source": [
    "df.shape"
   ]
  },
  {
   "cell_type": "code",
   "execution_count": 158,
   "id": "f4d64520-4661-4588-ac5a-d0c46088daff",
   "metadata": {},
   "outputs": [
    {
     "name": "stdout",
     "output_type": "stream",
     "text": [
      "<class 'pandas.core.frame.DataFrame'>\n",
      "RangeIndex: 3 entries, 0 to 2\n",
      "Data columns (total 3 columns):\n",
      " #   Column  Non-Null Count  Dtype \n",
      "---  ------  --------------  ----- \n",
      " 0   Name    3 non-null      object\n",
      " 1   Age     3 non-null      int64 \n",
      " 2   Marks   3 non-null      int64 \n",
      "dtypes: int64(2), object(1)\n",
      "memory usage: 204.0+ bytes\n"
     ]
    }
   ],
   "source": [
    "df.info()"
   ]
  },
  {
   "cell_type": "code",
   "execution_count": 162,
   "id": "c0a3adca-6db1-4b11-b79f-278fcd189690",
   "metadata": {},
   "outputs": [
    {
     "data": {
      "text/html": [
       "<div>\n",
       "<style scoped>\n",
       "    .dataframe tbody tr th:only-of-type {\n",
       "        vertical-align: middle;\n",
       "    }\n",
       "\n",
       "    .dataframe tbody tr th {\n",
       "        vertical-align: top;\n",
       "    }\n",
       "\n",
       "    .dataframe thead th {\n",
       "        text-align: right;\n",
       "    }\n",
       "</style>\n",
       "<table border=\"1\" class=\"dataframe\">\n",
       "  <thead>\n",
       "    <tr style=\"text-align: right;\">\n",
       "      <th></th>\n",
       "      <th>Age</th>\n",
       "      <th>Marks</th>\n",
       "    </tr>\n",
       "  </thead>\n",
       "  <tbody>\n",
       "    <tr>\n",
       "      <th>count</th>\n",
       "      <td>3.000000</td>\n",
       "      <td>3.00000</td>\n",
       "    </tr>\n",
       "    <tr>\n",
       "      <th>mean</th>\n",
       "      <td>21.666667</td>\n",
       "      <td>74.00000</td>\n",
       "    </tr>\n",
       "    <tr>\n",
       "      <th>std</th>\n",
       "      <td>1.527525</td>\n",
       "      <td>7.81025</td>\n",
       "    </tr>\n",
       "    <tr>\n",
       "      <th>min</th>\n",
       "      <td>20.000000</td>\n",
       "      <td>65.00000</td>\n",
       "    </tr>\n",
       "    <tr>\n",
       "      <th>25%</th>\n",
       "      <td>21.000000</td>\n",
       "      <td>71.50000</td>\n",
       "    </tr>\n",
       "    <tr>\n",
       "      <th>50%</th>\n",
       "      <td>22.000000</td>\n",
       "      <td>78.00000</td>\n",
       "    </tr>\n",
       "    <tr>\n",
       "      <th>75%</th>\n",
       "      <td>22.500000</td>\n",
       "      <td>78.50000</td>\n",
       "    </tr>\n",
       "    <tr>\n",
       "      <th>max</th>\n",
       "      <td>23.000000</td>\n",
       "      <td>79.00000</td>\n",
       "    </tr>\n",
       "  </tbody>\n",
       "</table>\n",
       "</div>"
      ],
      "text/plain": [
       "             Age     Marks\n",
       "count   3.000000   3.00000\n",
       "mean   21.666667  74.00000\n",
       "std     1.527525   7.81025\n",
       "min    20.000000  65.00000\n",
       "25%    21.000000  71.50000\n",
       "50%    22.000000  78.00000\n",
       "75%    22.500000  78.50000\n",
       "max    23.000000  79.00000"
      ]
     },
     "execution_count": 162,
     "metadata": {},
     "output_type": "execute_result"
    }
   ],
   "source": [
    "df.describe()"
   ]
  },
  {
   "cell_type": "code",
   "execution_count": 164,
   "id": "9c394798-6d2d-49b4-ba97-832b41f63fc8",
   "metadata": {},
   "outputs": [],
   "source": [
    "# load a data from \n",
    "# perform some functions in the data and write a short explanatory note"
   ]
  },
  {
   "cell_type": "code",
   "execution_count": null,
   "id": "f91832c4-f536-41e8-894f-1a761f0e20a9",
   "metadata": {},
   "outputs": [],
   "source": []
  }
 ],
 "metadata": {
  "kernelspec": {
   "display_name": "Python [conda env:base] *",
   "language": "python",
   "name": "conda-base-py"
  },
  "language_info": {
   "codemirror_mode": {
    "name": "ipython",
    "version": 3
   },
   "file_extension": ".py",
   "mimetype": "text/x-python",
   "name": "python",
   "nbconvert_exporter": "python",
   "pygments_lexer": "ipython3",
   "version": "3.12.7"
  }
 },
 "nbformat": 4,
 "nbformat_minor": 5
}
