{
 "cells": [
  {
   "cell_type": "markdown",
   "id": "4ed6e8b5-fc2d-4881-b7aa-0ce091c07a1d",
   "metadata": {},
   "source": [
    "# What is Statistics?\n",
    "\n",
    "# types of Statistics\n",
    "# 2 main types - Descriptive Statistics (DS), Inferential Statistics (IS)\n",
    "\n",
    "DS - deal with summarizing data and describing data, - no conclusions beyond data, - used tables, graphs, charts <br>\n",
    "\n",
    "IS - goes beyond the given data, - make predictions, generationalizations, or decisions about a larger population\n",
    "\n",
    "\n",
    "## HW\n",
    "1. What are exit polls? How does it work?\n",
    "2. Krish Naik Statistics\n",
    "\n",
    "\n",
    "# sub-types \n",
    "DS - (Measure of Central Tendency - mean, median, mode), (Measure of Dispersion - variance, standard deviation), <br>\n",
    "IS - uses probability, hypothesis testing, confidence intervals, regression "
   ]
  },
  {
   "cell_type": "code",
   "execution_count": 6,
   "id": "cff75b0f-c2a6-4d2e-a3bf-e9bcbfb6529d",
   "metadata": {},
   "outputs": [],
   "source": [
    "import numpy as np \n",
    "import pandas as pd"
   ]
  },
  {
   "cell_type": "code",
   "execution_count": 20,
   "id": "49ee278f-92e3-4f15-9904-fa7a113007fa",
   "metadata": {},
   "outputs": [],
   "source": [
    "data = [10, 20, 20, 40, 50, 100]\n",
    "df = pd.DataFrame({\"Marks\" : data})"
   ]
  },
  {
   "cell_type": "markdown",
   "id": "18403a36-b531-457a-a7c9-3cc13fa1bc23",
   "metadata": {},
   "source": [
    "# Descriptive Statistics\n",
    "## mean \n",
    "mean = sum of values / no. of values"
   ]
  },
  {
   "cell_type": "code",
   "execution_count": 36,
   "id": "1eef9c25-f700-49bd-99c4-5465aafce370",
   "metadata": {},
   "outputs": [
    {
     "data": {
      "text/plain": [
       "40.0"
      ]
     },
     "execution_count": 36,
     "metadata": {},
     "output_type": "execute_result"
    }
   ],
   "source": [
    "np.mean(data) "
   ]
  },
  {
   "cell_type": "code",
   "execution_count": 38,
   "id": "c8ca5327-5643-448d-9860-7f5e066a0092",
   "metadata": {},
   "outputs": [
    {
     "data": {
      "text/plain": [
       "40.0"
      ]
     },
     "execution_count": 38,
     "metadata": {},
     "output_type": "execute_result"
    }
   ],
   "source": [
    "df[\"Marks\"].mean()"
   ]
  },
  {
   "cell_type": "markdown",
   "id": "8b3221eb-8bbd-4c36-81da-910cbac2f61f",
   "metadata": {},
   "source": [
    "## median\n",
    "first, sort your numbers \n",
    "if even count -> calculate mean of 2 middle positions <br>\n",
    "else -> pick the most middle value"
   ]
  },
  {
   "cell_type": "code",
   "execution_count": 31,
   "id": "67d7fcaf-7889-49c0-a1c0-eba0dd5cead8",
   "metadata": {},
   "outputs": [
    {
     "data": {
      "text/plain": [
       "30.0"
      ]
     },
     "execution_count": 31,
     "metadata": {},
     "output_type": "execute_result"
    }
   ],
   "source": [
    "np.median(data)"
   ]
  },
  {
   "cell_type": "code",
   "execution_count": 33,
   "id": "0c21ec63-5b76-46e2-bb69-fdf19e881822",
   "metadata": {},
   "outputs": [
    {
     "data": {
      "text/plain": [
       "30.0"
      ]
     },
     "execution_count": 33,
     "metadata": {},
     "output_type": "execute_result"
    }
   ],
   "source": [
    "df[\"Marks\"].median()"
   ]
  },
  {
   "cell_type": "markdown",
   "id": "06986afa-e5c6-4b6a-b4c6-9675babf3945",
   "metadata": {},
   "source": [
    "## Mode\n",
    "HW"
   ]
  },
  {
   "cell_type": "markdown",
   "id": "d49823d9-54eb-4c53-94de-8b74c5ab41c9",
   "metadata": {},
   "source": [
    "## Variance - \n",
    "HW "
   ]
  },
  {
   "cell_type": "markdown",
   "id": "8c4d17fd-f83f-430c-98c1-911f32fa859f",
   "metadata": {},
   "source": [
    "### Population variance"
   ]
  },
  {
   "cell_type": "code",
   "execution_count": 50,
   "id": "96d89474-e1c4-4996-a002-f87527c5b234",
   "metadata": {},
   "outputs": [
    {
     "data": {
      "text/plain": [
       "900.0"
      ]
     },
     "execution_count": 50,
     "metadata": {},
     "output_type": "execute_result"
    }
   ],
   "source": [
    "np.var(data)"
   ]
  },
  {
   "cell_type": "markdown",
   "id": "ae89ba29-8cac-49e4-8511-1d547656ae9a",
   "metadata": {},
   "source": [
    "### Sample variance"
   ]
  },
  {
   "cell_type": "code",
   "execution_count": 52,
   "id": "89099cc6-05c8-45f9-8157-93198bebdf36",
   "metadata": {},
   "outputs": [
    {
     "data": {
      "text/plain": [
       "1080.0"
      ]
     },
     "execution_count": 52,
     "metadata": {},
     "output_type": "execute_result"
    }
   ],
   "source": [
    "df[\"Marks\"].var()"
   ]
  },
  {
   "cell_type": "markdown",
   "id": "b3d3b500-4327-4144-b8ba-d84bbd469faf",
   "metadata": {},
   "source": [
    "# Standard Deviation\n",
    "square root of variance\n",
    "\n",
    "HW"
   ]
  },
  {
   "cell_type": "markdown",
   "id": "e79ffc42-b46b-438a-88e7-ad5d8438549e",
   "metadata": {},
   "source": [
    "# HW\n",
    "\n",
    "salaries = [25000, 30000, 28000, 40000, 35000]\n",
    "house_prices = [50, 55, 60, 70, 500]\n",
    "shirt_sizes = [\"M\",\"L\",\"M\", \"S\", \"M\", \"L\",\"XL\", \"XS\"]\n",
    "Pop_Marks = [40, 42, 56, 39, 82, 59, 02, 85, 37, 20, 49]\n",
    "stock_returns = [1, 2, -1, 3, -2, 4, -3]\n",
    "# ex, monthly expenses\n",
    "# mean, median, mode\n",
    "# Sam_Marks ?\n",
    "# std dev"
   ]
  },
  {
   "cell_type": "markdown",
   "id": "3a195fbe-ec17-4543-a1f1-08ee51d62543",
   "metadata": {},
   "source": [
    "# HW - Skewness and Kurtosis"
   ]
  },
  {
   "cell_type": "markdown",
   "id": "c4118805-5db2-4aa0-a1d7-f1644af4b47d",
   "metadata": {},
   "source": [
    "## Mini-Project - Descriptive Statistics on Real Data \n",
    "data = {\n",
    "    \"students\" : [\"A\", \"B\", \"C\", \"D\", \"E\", \"F\", \"G\"]\n",
    "    \"maths\" : [45, 50, 55, 60, 100, 65, 70]\n",
    "}\n",
    "\n",
    "# make a DataFrame\n",
    "# do all descriptive statistics\n",
    "# define it in a class, make different objects(students - properties (maths)), individual statistics formula with your defined names of functions"
   ]
  },
  {
   "cell_type": "code",
   "execution_count": null,
   "id": "0011761a-a3a9-457a-a6bb-088ebb9e7fa0",
   "metadata": {},
   "outputs": [],
   "source": []
  },
  {
   "cell_type": "code",
   "execution_count": null,
   "id": "6ed99bd6-82bd-4a37-8362-d1941ecb75ac",
   "metadata": {},
   "outputs": [],
   "source": []
  },
  {
   "cell_type": "code",
   "execution_count": null,
   "id": "aef6d34c-b457-41b6-95a4-4eeca6b1cda0",
   "metadata": {},
   "outputs": [],
   "source": []
  },
  {
   "cell_type": "code",
   "execution_count": null,
   "id": "5177b9f5-19cb-4850-9612-6a506dee91f7",
   "metadata": {},
   "outputs": [],
   "source": []
  },
  {
   "cell_type": "code",
   "execution_count": null,
   "id": "a76b61eb-3c02-47ca-b6dd-93477745ba43",
   "metadata": {},
   "outputs": [],
   "source": []
  }
 ],
 "metadata": {
  "kernelspec": {
   "display_name": "Python [conda env:base] *",
   "language": "python",
   "name": "conda-base-py"
  },
  "language_info": {
   "codemirror_mode": {
    "name": "ipython",
    "version": 3
   },
   "file_extension": ".py",
   "mimetype": "text/x-python",
   "name": "python",
   "nbconvert_exporter": "python",
   "pygments_lexer": "ipython3",
   "version": "3.12.7"
  }
 },
 "nbformat": 4,
 "nbformat_minor": 5
}
