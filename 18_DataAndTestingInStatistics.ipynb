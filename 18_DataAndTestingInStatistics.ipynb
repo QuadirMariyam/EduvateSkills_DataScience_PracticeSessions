{
 "cells": [
  {
   "cell_type": "markdown",
   "id": "ee9dd76a-2e42-483d-819f-868b50c64a0b",
   "metadata": {},
   "source": [
    "# Data\n",
    "facts or figures/ a piece of information/ a record\n",
    "\n",
    "## Types (Statistics)\n",
    "1. Qualitative\n",
    "2. Quantitative\n",
    "\n",
    "### sub-types\n",
    "1. Qualitative\n",
    "   1. Nominal/ Categorical - Just names/ labels, no order. Ex, Gender (Male, Female, Others), Blood Group (O, A, B, AB) \n",
    "2. Quantitative\n",
    "   (Steven's Classification)\n",
    "   1. Ordinal - rank or order. Ex, 1, 2, 3 in exam results. ratings like 1, 2, 3, 4, 5\n",
    "   2. Discrete - whole countable numbers - ex, no. of persons, age\n",
    "   3. Continuous - measured values, can be decimals. Ex, height weight, temp"
   ]
  },
  {
   "cell_type": "markdown",
   "id": "8ba62dac-874a-48f0-becf-cb114a908807",
   "metadata": {},
   "source": [
    "# Inferential Statistics (testing)\n",
    "- the technique using which we can take decisions on the basis of data (data-driven decision making)\n",
    "\n",
    "1. Hypothesis/Statistics Testing - A method to check if an assumption (hypothesis) about a population is true, based on sample data.\n",
    "   - State the null hypothesis (H0) and alternative hypothesis (H1):\n",
    "         H0 - There is no difference between the average marks of girls and boys\n",
    "         H1 - There is a difference\n",
    "   - Choose a significance level (a = 0.05)\n",
    "   - Select a test (t-test, z-test, etc.)\n",
    "   - Calculate the test statistic and p-value\n",
    "   - Compare p-value with a:\n",
    "\n",
    "Ex, A company wants to test if a new training program increases employee productivity. Null = no improvement. Alternative = there is improvement"
   ]
  },
  {
   "cell_type": "code",
   "execution_count": 10,
   "id": "135ff3ed-daf7-46b2-abc9-2e9814867075",
   "metadata": {},
   "outputs": [],
   "source": [
    "import scipy.stats as stats"
   ]
  },
  {
   "cell_type": "code",
   "execution_count": 12,
   "id": "3f1b2531-7ee1-4146-a737-e96fb8c8f732",
   "metadata": {},
   "outputs": [
    {
     "name": "stdout",
     "output_type": "stream",
     "text": [
      "t_stat: -11.224972160321824 p_val 2.986257758340647e-05\n"
     ]
    }
   ],
   "source": [
    "before = [56, 60, 62, 59, 55, 61, 58]\n",
    "after = [63, 65, 66, 64, 62, 67, 66]\n",
    "\n",
    "t_stat, p_val = stats.ttest_rel(before, after)\n",
    "print(\"t_stat:\", t_stat, \"p_val\", p_val)"
   ]
  },
  {
   "cell_type": "markdown",
   "id": "9c15b7f7-7d26-46b1-af63-f6670a0f2ec1",
   "metadata": {},
   "source": [
    "# Correlation Matrix (Conitnuous vs Continuous)\n",
    "\n",
    "measures how strongly two variables move toegther <br>\n",
    "Pearson Correlation (r): ranges from -1 to +1 <br>\n",
    "    +1: perfect positive relation <br>\n",
    "    0: no relation <br>\n",
    "    -1: perfect negative relation <br>\n",
    "\n",
    "Ex, relationship between students hours studied and marks scored"
   ]
  },
  {
   "cell_type": "code",
   "execution_count": 24,
   "id": "9424af03-d7f2-46ac-8ce1-197f3ae87e56",
   "metadata": {},
   "outputs": [
    {
     "name": "stdout",
     "output_type": "stream",
     "text": [
      "               Hours_Studied     Marks  Sleep_Hours\n",
      "Hours_Studied       1.000000  0.993884    -1.000000\n",
      "Marks               0.993884  1.000000    -0.993884\n",
      "Sleep_Hours        -1.000000 -0.993884     1.000000\n"
     ]
    },
    {
     "data": {
      "image/png": "[encoded data removed]",
      "text/plain": [
       "<Figure size 640x480 with 2 Axes>"
      ]
     },
     "metadata": {},
     "output_type": "display_data"
    }
   ],
   "source": [
    "import pandas as pd\n",
    "import seaborn as sns\n",
    "import matplotlib.pyplot as plt\n",
    "\n",
    "data = pd.DataFrame({\n",
    "    \"Hours_Studied\": [2, 4, 6, 8, 10],\n",
    "    \"Marks\": [50, 55, 65, 75, 85],\n",
    "    \"Sleep_Hours\": [8, 7, 6, 5, 4]\n",
    "})\n",
    "\n",
    "# correlation matrix\n",
    "print(data.corr())\n",
    "\n",
    "# Heatmap visualization\n",
    "sns.heatmap(data.corr(), annot=True)\n",
    "plt.show()"
   ]
  },
  {
   "cell_type": "markdown",
   "id": "a786b315-7d35-4fd8-8b6c-b14a11097b72",
   "metadata": {},
   "source": [
    "# ANOVA (Categorical Vs. Conitnuous)\n",
    "\n",
    "- compares means across 3 or more groups to see if at least one group mean is significantly different\n",
    "\n",
    "- Null (H0): All group means are equal\n",
    "- Alternative (H1): At least one mean is different\n",
    "\n",
    "Ex, A teacher checks if students average marks differ across 3 different teaching methods"
   ]
  },
  {
   "cell_type": "code",
   "execution_count": 55,
   "id": "619e9958-c88e-48f5-89b2-c08757308caa",
   "metadata": {},
   "outputs": [
    {
     "name": "stdout",
     "output_type": "stream",
     "text": [
      "F_stat: 18.57039711191334 p_value: 0.00021204813061168648\n"
     ]
    }
   ],
   "source": [
    "method_A = [80, 85, 82, 90, 87]\n",
    "method_B = [78, 76, 75, 80, 79]\n",
    "method_C = [88, 90, 92, 85, 91]\n",
    "\n",
    "f_stat, p_val = stats.f_oneway(method_A, method_B, method_C)\n",
    "print(\"F_stat:\", f_stat, \"p_value:\", p_val)"
   ]
  },
  {
   "cell_type": "markdown",
   "id": "63449f19-ac4d-449a-9ea5-285f72a3e85b",
   "metadata": {},
   "source": [
    "# Chi-Square Test (Categorical vs Categorical)\n",
    "tests if two categorical variables are independent <br>\n",
    "Null (H0): Variables are independent <br>\n",
    "Alternative (H1): Variables are dependent <br>\n",
    "\n",
    "Ex, A store checks if gender (Male, Female) is related to product preference (Shoes, Bags, Watches)"
   ]
  },
  {
   "cell_type": "code",
   "execution_count": 70,
   "id": "82192c72-3432-4943-9aa9-cac672a4b6f0",
   "metadata": {},
   "outputs": [],
   "source": [
    "from scipy.stats import chi2_contingency"
   ]
  },
  {
   "cell_type": "code",
   "execution_count": 72,
   "id": "c5e114e9-98b6-40bf-93b2-007b1dc4a9da",
   "metadata": {},
   "outputs": [],
   "source": [
    "data = pd.DataFrame({\n",
    "    \"Shoes\": [30, 10],\n",
    "    \"Bags\": [20, 25],\n",
    "    \"Watches\": [25, 20]\n",
    "}, index=[\"Male\", \"Female\"])"
   ]
  },
  {
   "cell_type": "code",
   "execution_count": 74,
   "id": "af8bb51b-021e-4acf-89a6-33bec504439b",
   "metadata": {},
   "outputs": [
    {
     "name": "stdout",
     "output_type": "stream",
     "text": [
      "Chi2: 8.228956228956228 p_value:  0.016334462905061953\n"
     ]
    }
   ],
   "source": [
    "chi2, p, dof, expected = chi2_contingency(data)\n",
    "print(\"Chi2:\", chi2, \"p_value: \", p)"
   ]
  },
  {
   "cell_type": "markdown",
   "id": "a25c323b-0c3e-4017-b35d-5a7212d8edd8",
   "metadata": {},
   "source": [
    "# Extra notes\n",
    "\n",
    "# 📊 Cheat Sheet: Data Types & Statistical Tests\n",
    "\n",
    "| Data Type Combination                              | Best Test                           | Why / Reasoning                                                                | Quick Example                                                         |\n",
    "| -------------------------------------------------- | ----------------------------------- | ------------------------------------------------------------------------------ | --------------------------------------------------------------------- |\n",
    "| **Continuous vs Continuous**                       | **Correlation (Pearson, Spearman)** | Measures strength & direction of relationship between two numerical variables. | Height vs Weight of students → Are taller students generally heavier? |\n",
    "| **Categorical vs Continuous (2 categories)**       | **t-test**                          | Compares means of 2 groups.                                                    | Male vs Female average exam scores.                                   |\n",
    "| **Categorical vs Continuous (3+ categories)**      | **ANOVA (Analysis of Variance)**    | Compares means of 3 or more groups.                                            | Exam scores across 3 teaching methods (online, offline, hybrid).      |\n",
    "| **Categorical vs Categorical**                     | **Chi-Square Test of Independence** | Checks if two categorical variables are related.                               | Gender vs Favorite Movie Genre (Male/Female × Action/Comedy/Romance). |\n",
    "| **Continuous (sample) vs Hypothesized Value**      | **One-sample t-test**               | Tests if sample mean differs from a fixed population mean.                     | Avg class score vs passing mark of 50.                                |\n",
    "| **Categorical (proportion) vs Hypothesized Value** | **Binomial / Proportion test**      | Tests if observed proportion = expected proportion.                            | Coin toss fairness → Heads = 50% expected.                            |\n",
    "\n",
    "---\n",
    "\n",
    "## 🔎 Reasoning in Short:\n",
    "\n",
    "* **Continuous–Continuous** → relationship strength → *Correlation*.\n",
    "* **Categorical–Continuous** → group mean comparison → *t-test / ANOVA*.\n",
    "* **Categorical–Categorical** → relationship between categories → *Chi-Square*.\n",
    "* **Continuous vs Fixed Value** → mean check → *One-sample t-test*.\n",
    "* **Categorical vs Fixed Value** → proportion check → *Proportion test*.\n",
    "\n",
    "---\n",
    "\n",
    "## ✅ Quick Code Examples (in Python)\n",
    "\n",
    "### 1. Correlation (Continuous vs Continuous)\n",
    "\n",
    "```python\n",
    "import pandas as pd\n",
    "import numpy as np\n",
    "\n",
    "height = [150, 160, 165, 170, 175, 180]\n",
    "weight = [50, 55, 60, 65, 70, 75]\n",
    "\n",
    "df = pd.DataFrame({'Height': height, 'Weight': weight})\n",
    "print(df.corr())  # Pearson correlation\n",
    "```\n",
    "\n",
    "---\n",
    "\n",
    "### 2. t-test (Categorical vs Continuous, 2 groups)\n",
    "\n",
    "```python\n",
    "from scipy import stats\n",
    "\n",
    "male_scores = [70, 65, 80, 75, 85]\n",
    "female_scores = [60, 55, 70, 65, 68]\n",
    "\n",
    "t_stat, p_val = stats.ttest_ind(male_scores, female_scores)\n",
    "print(\"t-stat:\", t_stat, \"p-value:\", p_val)\n",
    "```\n",
    "\n",
    "---\n",
    "\n",
    "### 3. ANOVA (Categorical vs Continuous, 3 groups)\n",
    "\n",
    "```python\n",
    "group1 = [85, 88, 90, 92]   # Online\n",
    "group2 = [78, 80, 82, 85]   # Offline\n",
    "group3 = [90, 92, 94, 96]   # Hybrid\n",
    "\n",
    "f_stat, p_val = stats.f_oneway(group1, group2, group3)\n",
    "print(\"F-stat:\", f_stat, \"p-value:\", p_val)\n",
    "```\n",
    "\n",
    "---\n",
    "\n",
    "### 4. Chi-Square (Categorical vs Categorical)\n",
    "\n",
    "```python\n",
    "import pandas as pd\n",
    "from scipy.stats import chi2_contingency\n",
    "\n",
    "data = [[30, 10],  # Male: Action, Comedy\n",
    "        [20, 40]]  # Female: Action, Comedy\n",
    "\n",
    "chi2, p, dof, expected = chi2_contingency(data)\n",
    "print(\"Chi2:\", chi2, \"p-value:\", p)\n",
    "```\n",
    "\n",
    "---\n",
    "\n",
    "👉 This way, whenever you face a dataset, you first ask:\n",
    "\n",
    "1. Are the variables categorical or continuous?\n",
    "2. How many groups?\n",
    "3. Am I comparing, relating, or testing against a fixed value?"
   ]
  },
  {
   "cell_type": "markdown",
   "id": "bc345b6e",
   "metadata": {},
   "source": []
  },
  {
   "cell_type": "code",
   "execution_count": null,
   "id": "a1ea2795",
   "metadata": {},
   "outputs": [],
   "source": []
  },
  {
   "cell_type": "code",
   "execution_count": null,
   "id": "9349094b-508c-4ee2-9955-a9d27ea10ca2",
   "metadata": {},
   "outputs": [],
   "source": []
  },
  {
   "cell_type": "code",
   "execution_count": null,
   "id": "c100c9d9-d2a4-46b9-b438-5e2136cc4f57",
   "metadata": {},
   "outputs": [],
   "source": []
  },
  {
   "cell_type": "code",
   "execution_count": null,
   "id": "e9226833-d55d-4b95-8e47-ae6b28e7eabb",
   "metadata": {},
   "outputs": [],
   "source": []
  },
  {
   "cell_type": "code",
   "execution_count": null,
   "id": "d4895b1f-fe1c-41ee-88c4-80c4bb508cfc",
   "metadata": {},
   "outputs": [],
   "source": []
  }
 ],
 "metadata": {
  "kernelspec": {
   "display_name": "Python [conda env:base] *",
   "language": "python",
   "name": "conda-base-py"
  },
  "language_info": {
   "codemirror_mode": {
    "name": "ipython",
    "version": 3
   },
   "file_extension": ".py",
   "mimetype": "text/x-python",
   "name": "python",
   "nbconvert_exporter": "python",
   "pygments_lexer": "ipython3",
   "version": "3.12.7"
  }
 },
 "nbformat": 4,
 "nbformat_minor": 5
}
