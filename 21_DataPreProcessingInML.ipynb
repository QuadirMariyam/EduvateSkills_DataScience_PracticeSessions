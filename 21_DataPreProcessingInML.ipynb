{
 "cells": [
  {
   "cell_type": "markdown",
   "id": "db695064-6e5b-47ae-82ee-69a2c08ecfcc",
   "metadata": {},
   "source": [
    "# Data Pre Processing\n",
    "\n",
    "this is the foundation of Machine Learning.<br> Raw data is messy -> models need clean, consistent, and numerical data to learn patterns"
   ]
  },
  {
   "cell_type": "markdown",
   "id": "876ba7f8-54ba-459c-8262-a1fa72d23912",
   "metadata": {},
   "source": [
    "1. Ordinal categorical -> Numeric \n",
    "\n",
    "ex, Low > Medium > High. Convert these to numbers\n",
    "\n",
    "- Preserve order when encoding\n",
    "- Don't use one hot encoding for ordinal, as it removes order info.\n",
    "\n",
    "Use: OrdinalEncoder from sklearn"
   ]
  },
  {
   "cell_type": "code",
   "execution_count": null,
   "id": "d664dc95-118b-481f-81eb-bb6f18a98a72",
   "metadata": {},
   "outputs": [],
   "source": [
    "2. Binary Nominal -> 0/1\n",
    "\n",
    "ex, gender = male or female\n",
    "\n",
    "- simple mapping works, without ranking\n",
    "- accross dataset consistent\n",
    "\n",
    "Usage Ex, Encode[\"Yes\", \"No\"] -> [1, 0]"
   ]
  },
  {
   "cell_type": "code",
   "execution_count": null,
   "id": "0e2d14a5-3103-4201-8d75-3b2d3a9f918c",
   "metadata": {},
   "outputs": [],
   "source": [
    "Nominal Categorical -> Numeric / Continuous\n",
    "\n",
    "ex, port = S, C, Q, city = Delhi, Mumbai, Banglore\n",
    "\n",
    "- prevents false ordering\n",
    "- use drop_first = True to avoid dummy variable trap\n",
    "\n",
    "Use: pd.get_dummies()"
   ]
  },
  {
   "cell_type": "code",
   "execution_count": null,
   "id": "9a4ef4fc-c0ac-464e-a358-adfc41abf92f",
   "metadata": {},
   "outputs": [],
   "source": [
    "4. Standardization vs. Normalization\n",
    "\n",
    "standardization - rescales data to mean=0, std=1/-1 -> (x-mean)/std\n",
    "    - used in algorithms assuming Gaussian/ Normal Distribution (Logistic Regresion, SVM, PCA)\n",
    "\n",
    "Normalization - rescales values between [0, 1]\n",
    "    - Used in distance-based algorithms (KNN, Neural Nets)\n",
    "\n",
    "Use: StandardScaler or MinMaxScaler from sklearn"
   ]
  },
  {
   "cell_type": "code",
   "execution_count": null,
   "id": "047e9010-d173-4277-8f64-96e223e4283b",
   "metadata": {},
   "outputs": [],
   "source": [
    "5. Train-Test Split\n",
    "\n",
    "Definition: Split dataset into training (model learns) and testing (model evaluated).\n",
    "\n",
    "Rule of thumb: 70-80% train, 20-30% test.\n",
    "\n",
    "Hack: Use train_test_split(X,y,test_size=0.2,random_state=42)\n",
    "\n",
    "Exercise: Split Iris dataset into 80/20.\n",
    "\n",
    "✅ Solution Code\n",
    "import pandas as pd\n",
    "from sklearn.preprocessing import StandardScaler, MinMaxScaler\n",
    "from sklearn.model_selection import train_test_split\n",
    "\n",
    "# Step 1: Create dataset\n",
    "data = {\n",
    "    'education': ['Low','Medium','High','Medium','Low'],\n",
    "    'gender': ['Male','Female','Female','Male','Male'],\n",
    "    'city': ['Delhi','Mumbai','Chennai','Delhi','Mumbai'],\n",
    "    'salary': [20000, 35000, 50000, 30000, 25000],\n",
    "    'target': [0,1,1,0,0]   # Example classification label\n",
    "}\n",
    "\n",
    "df = pd.DataFrame(data)\n",
    "print(\"Original Data:\\n\", df)\n",
    "\n",
    "# Step 2: Ordinal encode education\n",
    "edu_map = {'Low':1, 'Medium':2, 'High':3}\n",
    "df['education'] = df['education'].map(edu_map)\n",
    "\n",
    "# Step 3: Binary encode gender\n",
    "df['gender'] = df['gender'].map({'Male':0, 'Female':1})\n",
    "\n",
    "# Step 4: One-hot encode city\n",
    "df = pd.get_dummies(df, columns=['city'], drop_first=True)\n",
    "\n",
    "print(\"\\nEncoded Data:\\n\", df)\n",
    "\n",
    "# Step 5: Standardize & Normalize salary\n",
    "scaler_std = StandardScaler()\n",
    "scaler_norm = MinMaxScaler()\n",
    "\n",
    "df['salary_std'] = scaler_std.fit_transform(df[['salary']])\n",
    "df['salary_norm'] = scaler_norm.fit_transform(df[['salary']])\n",
    "\n",
    "print(\"\\nAfter Scaling:\\n\", df[['salary','salary_std','salary_norm']])\n",
    "\n",
    "# Step 6: Train-test split\n",
    "X = df.drop(columns=['target'])\n",
    "y = df['target']\n",
    "\n",
    "X_train, X_test, y_train, y_test = train_test_split(X, y, test_size=0.2, random_state=42)\n",
    "\n",
    "print(\"\\nX_train:\\n\", X_train)\n",
    "print(\"\\nX_test:\\n\", X_test)\n"
   ]
  },
  {
   "cell_type": "markdown",
   "id": "5ff98003-916a-4efa-8f3e-e72abd2b7c2e",
   "metadata": {},
   "source": [
    "6. Types of ML\n",
    "\n",
    "Supervised Learning: Uses labeled data. (Regression, Classification)\n",
    "\n",
    "Unsupervised Learning: Uses unlabeled data. (Clustering, Dimensionality reduction)\n",
    "\n",
    "Semi-supervised Learning: Few labeled + many unlabeled samples.\n",
    "\n",
    "Reinforcement Learning: Agent learns by trial/error with rewards."
   ]
  },
  {
   "cell_type": "markdown",
   "id": "36a9e279-c87e-47f9-910c-2d067b4a2fb5",
   "metadata": {},
   "source": [
    "📌 Short Assignment\n",
    "\n",
    "Task:\n",
    "\n",
    "Create a small dataset with:\n",
    "\n",
    "education (Low/Medium/High) → ordinal\n",
    "\n",
    "gender (Male/Female) → binary nominal\n",
    "\n",
    "city (Delhi/Mumbai/Chennai) → nominal categorical\n",
    "\n",
    "salary (numeric)\n",
    "\n",
    "Convert all categorical features properly.\n",
    "\n",
    "Standardize and normalize salary.\n",
    "\n",
    "Split into train-test sets (80/20).\n",
    "\n",
    "\n",
    "ex, \n",
    "data = {\n",
    "    'education': ['Low','Medium','High','Medium','Low'],\n",
    "    'gender': ['Male','Female','Female','Male','Male'],\n",
    "    'city': ['Delhi','Mumbai','Chennai','Delhi','Mumbai'],\n",
    "    'salary': [20000, 35000, 50000, 30000, 25000],\n",
    "    'target': [0,1,1,0,0]   # Example classification label\n",
    "}\n"
   ]
  },
  {
   "cell_type": "code",
   "execution_count": null,
   "id": "617693a2-44fa-4271-a73a-7a502f1ac21d",
   "metadata": {},
   "outputs": [],
   "source": []
  }
 ],
 "metadata": {
  "kernelspec": {
   "display_name": "Python [conda env:base] *",
   "language": "python",
   "name": "conda-base-py"
  },
  "language_info": {
   "codemirror_mode": {
    "name": "ipython",
    "version": 3
   },
   "file_extension": ".py",
   "mimetype": "text/x-python",
   "name": "python",
   "nbconvert_exporter": "python",
   "pygments_lexer": "ipython3",
   "version": "3.12.7"
  }
 },
 "nbformat": 4,
 "nbformat_minor": 5
}
